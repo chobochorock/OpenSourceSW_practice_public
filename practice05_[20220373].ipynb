{
 "cells": [
  {
   "cell_type": "code",
   "execution_count": 39,
   "id": "statewide-syndrome",
   "metadata": {},
   "outputs": [],
   "source": [
    "import numpy as np\n",
    "from matplotlib import pyplot as plt\n",
    "%matplotlib inline"
   ]
  },
  {
   "cell_type": "markdown",
   "id": "round-script",
   "metadata": {},
   "source": [
    "## Linear Regression\n",
    "### 1. Data Generation\n",
    "Assume that the following linear model generates $n$ training data:\n",
    "\n",
    "$y=w_{0}+w_{1}\\cdot x + \\epsilon$\n",
    "\n",
    "where $\\epsilon$ indicates a noise and $(w_{0},w_{1})$ is coefficients of linear model.\n",
    "\n",
    "If we have $(x_{1}, \\cdots, x_{n})$, then, we have $n$ outputs from the linear model as follows,\n",
    "\n",
    "$y_{1}=w_{0}+w_{1}\\cdot x_{1} + \\epsilon_{1}$\n",
    "\n",
    "$y_{2}=w_{0}+w_{1}\\cdot x_{2} + \\epsilon_{2}$\n",
    "\n",
    "$\\vdots$\n",
    "\n",
    "$y_{n-1}=w_{0}+w_{1}\\cdot x_{n-1} + \\epsilon_{n-1}$\n",
    "\n",
    "$y_{n}=w_{0}+w_{1}\\cdot x_{n} + \\epsilon_{n}$\n",
    "\n",
    "The following block shows the data generation process."
   ]
  },
  {
   "cell_type": "code",
   "execution_count": 40,
   "id": "civilian-express",
   "metadata": {},
   "outputs": [],
   "source": [
    "w = np.random.randn(2,)\n",
    "x_list = np.linspace(-10,10,100)\n",
    "y_list = w[1]*x_list + w[0]\n",
    "\n",
    "n_data = 100 # The number of data\n",
    "std_noise = 1.5 # level of noise\n",
    "x_data = 10*np.random.randn(n_data,) # Input points\n",
    "y_data = w[1]*x_data + w[0] + std_noise*np.random.randn(n_data,) # Output points"
   ]
  },
  {
   "cell_type": "markdown",
   "metadata": {},
   "source": [
    "### Variable Explanation\n",
    "- n_data: the number of data\n",
    "- std_noise: level of noise\n",
    "- x_data: input points with shape (n_data,)\n",
    "- y_data: output points with shape (n_data,)"
   ]
  },
  {
   "cell_type": "markdown",
   "id": "divided-agenda",
   "metadata": {},
   "source": [
    "### Visualization (Do not modify the following block)"
   ]
  },
  {
   "cell_type": "code",
   "execution_count": 41,
   "id": "powerful-election",
   "metadata": {},
   "outputs": [
    {
     "data": {
      "image/png": "[encoded data removed]",
      "text/plain": [
       "<Figure size 432x288 with 1 Axes>"
      ]
     },
     "metadata": {
      "needs_background": "light"
     },
     "output_type": "display_data"
    }
   ],
   "source": [
    "plt.scatter(x_data, y_data, label='Observed Data')\n",
    "plt.plot(x_list, y_list, 'r', label='Original Function')\n",
    "plt.xlim([np.min(x_list),np.max(x_list)])\n",
    "plt.ylim([np.min(x_list),np.max(x_list)])\n",
    "plt.legend()\n",
    "plt.show()"
   ]
  },
  {
   "cell_type": "markdown",
   "id": "alien-kinase",
   "metadata": {},
   "source": [
    "## 2. Linear Regression \n",
    "The goal of linear regression is to find coefficients $\\hat{w}_{0},\\hat{w}_{1}$ such that\n",
    "\n",
    "$y_{1}=\\hat{w}_{0}+\\hat{w}_{1}\\cdot x_{1}$\n",
    "\n",
    "$y_{2}=\\hat{w}_{0}+\\hat{w}_{1}\\cdot x_{2}$\n",
    "\n",
    "$\\vdots$\n",
    "\n",
    "$y_{n-1}=\\hat{w}_{0}+\\hat{w}_{1}\\cdot x_{n-1}$\n",
    "\n",
    "$y_{n}=\\hat{w}_{0}+\\hat{w}_{1}\\cdot x_{n}$\n",
    "\n",
    "Then, we can convert the above conditions into the linear equation as follows.\n",
    "\n",
    "$$\n",
    "\\begin{bmatrix}\n",
    "y_{1} \\\\\n",
    "y_{2} \\\\\n",
    "\\vdots\\\\\n",
    "y_{n-1} \\\\\n",
    "y_{n} \\\\\n",
    "\\end{bmatrix}\n",
    "=\n",
    "\\begin{bmatrix}\n",
    "1 & x_{1}\\\\\n",
    "1 & x_{2}\\\\\n",
    "\\vdots & \\vdots\\\\\n",
    "1 & x_{n-1}\\\\\n",
    "1 & x_{n}\\\\\n",
    "\\end{bmatrix}\n",
    "\\begin{bmatrix}\n",
    "\\hat{w}_{0}\\\\\n",
    "\\hat{w}_{1}\n",
    "\\end{bmatrix}\n",
    "$$\n",
    "\n",
    "Let $A=\\begin{bmatrix}\n",
    "1 & x_{1}\\\\\n",
    "1 & x_{2}\\\\\n",
    "\\vdots & \\vdots\\\\\n",
    "1 & x_{n-1}\\\\\n",
    "1 & x_{n}\\\\\n",
    "\\end{bmatrix}$, ${\\bf y}=\\begin{bmatrix}\n",
    "y_{1} \\\\\n",
    "y_{2} \\\\\n",
    "\\vdots\\\\\n",
    "y_{n-1} \\\\\n",
    "y_{n} \\\\\n",
    "\\end{bmatrix}$, and ${\\bf \\hat{w}} = \\begin{bmatrix}\n",
    "\\hat{w}_{0}\\\\\n",
    "\\hat{w}_{1}\n",
    "\\end{bmatrix}$.\n",
    "Then, we can rewrite the linear equations into ${\\bf y} = A{\\bf \\hat{w}}$.\n",
    "\n",
    "How can we compute $\\bf \\hat{w}$? We can employ a pseudo inverse of $A$.\n",
    "Let $A^{\\dagger}$ be a pseudo inverse of $A$.\n",
    "From the definition of pseudo inverse, the following properties hold.\n",
    "\n",
    "- $AA^{\\dagger}A = A$ \n",
    "- $A^{\\dagger}AA^{\\dagger} = A^{\\dagger}$\n",
    "\n",
    "In particular, when $A$ has linearly independent columns (and thus matrix $A^{T}A$ is invertible), $A^{\\dagger}$ can be computed as\n",
    "\n",
    "$A^{\\dagger} = (A^{T}A)^{-1}A^{T}$\n",
    "\n",
    "By using this condition, we can compute ${\\bf \\hat{w}}$ as follows,\n",
    "\n",
    "$$\n",
    "{\\bf y} = A{\\bf \\hat{w}}\n",
    "$$\n",
    "\n",
    "$$\n",
    "A^{T}{\\bf y} = A^{T}A{\\bf \\hat{w}}\n",
    "$$\n",
    "\n",
    "$$\n",
    "(A^{T}A)^{-1}A^{T}{\\bf y} = {\\bf \\hat{w}}\n",
    "$$\n",
    "\n",
    "$$\n",
    "A^{\\dagger}{\\bf y} = {\\bf \\hat{w}}\n",
    "$$\n",
    "\n",
    "### Now, implement linear regression by using numpy library. (Do not use other libraries)\n",
    "### Variable Explanation\n",
    "- w_est: estimated cofficients $\\bf \\hat{w}$\n",
    "- y_est: estimated function values for the input list, x_list"
   ]
  },
  {
   "cell_type": "code",
   "execution_count": 42,
   "id": "divided-merchant",
   "metadata": {},
   "outputs": [
    {
     "name": "stdout",
     "output_type": "stream",
     "text": [
      "[-1.03099557 -0.06355119]\n"
     ]
    }
   ],
   "source": [
    "A = np.array([[1 for _ in x_data], x_data])\n",
    "w_est = np.array(y_data) @ np.linalg.pinv(A)\n",
    "y_est = w_est[1]*x_list + w_est[0]\n",
    "print(w_est)"
   ]
  },
  {
   "cell_type": "markdown",
   "metadata": {},
   "source": [
    "### Visualization (Do not modify the following block)"
   ]
  },
  {
   "cell_type": "code",
   "execution_count": 43,
   "id": "systematic-surrey",
   "metadata": {},
   "outputs": [
    {
     "data": {
      "image/png": "[encoded data removed]",
      "text/plain": [
       "<Figure size 432x288 with 1 Axes>"
      ]
     },
     "metadata": {
      "needs_background": "light"
     },
     "output_type": "display_data"
    }
   ],
   "source": [
    "plt.scatter(x_data, y_data, label='Observed Data')\n",
    "plt.plot(x_list, y_list, 'r', label='Original Function')\n",
    "plt.plot(x_list, y_est, '-.m', label='Estimated Function')\n",
    "plt.xlim([np.min(x_list),np.max(x_list)])\n",
    "plt.ylim([np.min(x_list),np.max(x_list)])\n",
    "plt.legend()\n",
    "plt.show()"
   ]
  }
 ],
 "metadata": {
  "kernelspec": {
   "display_name": "Python 3.10.2 64-bit",
   "language": "python",
   "name": "python3"
  },
  "language_info": {
   "codemirror_mode": {
    "name": "ipython",
    "version": 3
   },
   "file_extension": ".py",
   "mimetype": "text/x-python",
   "name": "python",
   "nbconvert_exporter": "python",
   "pygments_lexer": "ipython3",
   "version": "3.10.2"
  },
  "vscode": {
   "interpreter": {
    "hash": "0f197c2fbe923a7f59e8a2457376755c80e4a79ff7dee7c5f9b4a229f6d35c8b"
   }
  }
 },
 "nbformat": 4,
 "nbformat_minor": 5
}
